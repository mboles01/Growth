{
 "cells": [
  {
   "cell_type": "markdown",
   "metadata": {},
   "source": [
    "# LTV estimation"
   ]
  },
  {
   "cell_type": "markdown",
   "metadata": {},
   "source": [
    "This notebook demonstrates LTV estimation using the [shifted beta geometric retention model](https://faculty.wharton.upenn.edu/wp-content/uploads/2012/04/Fader_hardie_jim_07.pdf)."
   ]
  },
  {
   "cell_type": "code",
   "execution_count": 21,
   "metadata": {},
   "outputs": [],
   "source": [
    "# import libraries\n",
    "import pandas as pd\n",
    "import numpy as np\n",
    "import matplotlib.pyplot as plt\n",
    "%matplotlib inline\n",
    "\n",
    "# suppress warnings\n",
    "import warnings\n",
    "warnings.filterwarnings('ignore')"
   ]
  },
  {
   "cell_type": "markdown",
   "metadata": {},
   "source": [
    "### Create observed retention table"
   ]
  },
  {
   "cell_type": "markdown",
   "metadata": {},
   "source": [
    "[Data source](https://doc.lagout.org/Others/Data%20Mining/Data%20Mining%20Techniques_%20For%20Marketing%2C%20Sales%2C%20and%20Customer%20Support%20(2nd%20ed.)%20%5BBerry%20%26%20Linoff%202004-04-09%5D.pdf#page=416)"
   ]
  },
  {
   "cell_type": "code",
   "execution_count": 9,
   "metadata": {},
   "outputs": [],
   "source": [
    "# create time (x) and observed overall retention (s) variables\n",
    "x = np.arange(0, 13, 1)\n",
    "s = [1, 0.839, 0.733, 0.653, 0.593, 0.551, 0.517, 0.491, 0.468, 0.445, 0.427, 0.409, 0.394]"
   ]
  },
  {
   "cell_type": "code",
   "execution_count": 11,
   "metadata": {},
   "outputs": [],
   "source": [
    "# create instantaneous retention (r) from overall retention (s): R(t) = S(t) / S(t-1)\n",
    "r = [np.nan]\n",
    "for counter, i in enumerate(s):\n",
    "    if counter > 0:\n",
    "        r.append(round(i/s[counter-1], 3))"
   ]
  },
  {
   "cell_type": "markdown",
   "metadata": {},
   "source": [
    "### Define and fit the shifted beta geometric model"
   ]
  },
  {
   "cell_type": "code",
   "execution_count": null,
   "metadata": {},
   "outputs": [],
   "source": [
    "# define shifted beta geometric function\n",
    "from scipy.optimize import curve_fit\n",
    "def sBG_function(x, a, b):\n",
    "    return (b + x - 1) / (a + b + x - 1)"
   ]
  },
  {
   "cell_type": "code",
   "execution_count": 48,
   "metadata": {},
   "outputs": [
    {
     "name": "stdout",
     "output_type": "stream",
     "text": [
      "alpha =  0.54 \n",
      "beta =  2.76\n"
     ]
    }
   ],
   "source": [
    "# fit sBG model to (first half of) instantanous retention (r) data \n",
    "limit = 7\n",
    "popt_sBG, pcov = curve_fit(sBG_function, x[1:limit+1], r[1:limit+1], absolute_sigma=False, maxfev=1000)\n",
    "print('alpha = ', round(popt_sBG[0], 2), '\\nbeta = ', round(popt_sBG[1], 2))"
   ]
  },
  {
   "cell_type": "code",
   "execution_count": 49,
   "metadata": {},
   "outputs": [
    {
     "data": {
      "text/html": [
       "<div>\n",
       "<style scoped>\n",
       "    .dataframe tbody tr th:only-of-type {\n",
       "        vertical-align: middle;\n",
       "    }\n",
       "\n",
       "    .dataframe tbody tr th {\n",
       "        vertical-align: top;\n",
       "    }\n",
       "\n",
       "    .dataframe thead th {\n",
       "        text-align: right;\n",
       "    }\n",
       "</style>\n",
       "<table border=\"1\" class=\"dataframe\">\n",
       "  <thead>\n",
       "    <tr style=\"text-align: right;\">\n",
       "      <th></th>\n",
       "      <th>Time</th>\n",
       "      <th>S_obs</th>\n",
       "      <th>R_obs</th>\n",
       "      <th>R_pred</th>\n",
       "      <th>S_pred</th>\n",
       "    </tr>\n",
       "  </thead>\n",
       "  <tbody>\n",
       "    <tr>\n",
       "      <th>0</th>\n",
       "      <td>0</td>\n",
       "      <td>1.000</td>\n",
       "      <td>NaN</td>\n",
       "      <td>NaN</td>\n",
       "      <td>1.000</td>\n",
       "    </tr>\n",
       "    <tr>\n",
       "      <th>1</th>\n",
       "      <td>1</td>\n",
       "      <td>0.839</td>\n",
       "      <td>0.839</td>\n",
       "      <td>0.836</td>\n",
       "      <td>0.836</td>\n",
       "    </tr>\n",
       "    <tr>\n",
       "      <th>2</th>\n",
       "      <td>2</td>\n",
       "      <td>0.733</td>\n",
       "      <td>0.874</td>\n",
       "      <td>0.874</td>\n",
       "      <td>0.731</td>\n",
       "    </tr>\n",
       "    <tr>\n",
       "      <th>3</th>\n",
       "      <td>3</td>\n",
       "      <td>0.653</td>\n",
       "      <td>0.891</td>\n",
       "      <td>0.898</td>\n",
       "      <td>0.656</td>\n",
       "    </tr>\n",
       "    <tr>\n",
       "      <th>4</th>\n",
       "      <td>4</td>\n",
       "      <td>0.593</td>\n",
       "      <td>0.908</td>\n",
       "      <td>0.914</td>\n",
       "      <td>0.600</td>\n",
       "    </tr>\n",
       "    <tr>\n",
       "      <th>5</th>\n",
       "      <td>5</td>\n",
       "      <td>0.551</td>\n",
       "      <td>0.929</td>\n",
       "      <td>0.926</td>\n",
       "      <td>0.555</td>\n",
       "    </tr>\n",
       "    <tr>\n",
       "      <th>6</th>\n",
       "      <td>6</td>\n",
       "      <td>0.517</td>\n",
       "      <td>0.938</td>\n",
       "      <td>0.935</td>\n",
       "      <td>0.519</td>\n",
       "    </tr>\n",
       "    <tr>\n",
       "      <th>7</th>\n",
       "      <td>7</td>\n",
       "      <td>0.491</td>\n",
       "      <td>0.950</td>\n",
       "      <td>0.942</td>\n",
       "      <td>0.489</td>\n",
       "    </tr>\n",
       "    <tr>\n",
       "      <th>8</th>\n",
       "      <td>8</td>\n",
       "      <td>0.468</td>\n",
       "      <td>0.953</td>\n",
       "      <td>0.948</td>\n",
       "      <td>0.464</td>\n",
       "    </tr>\n",
       "    <tr>\n",
       "      <th>9</th>\n",
       "      <td>9</td>\n",
       "      <td>0.445</td>\n",
       "      <td>0.951</td>\n",
       "      <td>0.952</td>\n",
       "      <td>0.441</td>\n",
       "    </tr>\n",
       "    <tr>\n",
       "      <th>10</th>\n",
       "      <td>10</td>\n",
       "      <td>0.427</td>\n",
       "      <td>0.960</td>\n",
       "      <td>0.956</td>\n",
       "      <td>0.422</td>\n",
       "    </tr>\n",
       "    <tr>\n",
       "      <th>11</th>\n",
       "      <td>11</td>\n",
       "      <td>0.409</td>\n",
       "      <td>0.958</td>\n",
       "      <td>0.959</td>\n",
       "      <td>0.405</td>\n",
       "    </tr>\n",
       "    <tr>\n",
       "      <th>12</th>\n",
       "      <td>12</td>\n",
       "      <td>0.394</td>\n",
       "      <td>0.963</td>\n",
       "      <td>0.962</td>\n",
       "      <td>0.389</td>\n",
       "    </tr>\n",
       "  </tbody>\n",
       "</table>\n",
       "</div>"
      ],
      "text/plain": [
       "    Time  S_obs  R_obs  R_pred  S_pred\n",
       "0      0  1.000    NaN     NaN   1.000\n",
       "1      1  0.839  0.839   0.836   0.836\n",
       "2      2  0.733  0.874   0.874   0.731\n",
       "3      3  0.653  0.891   0.898   0.656\n",
       "4      4  0.593  0.908   0.914   0.600\n",
       "5      5  0.551  0.929   0.926   0.555\n",
       "6      6  0.517  0.938   0.935   0.519\n",
       "7      7  0.491  0.950   0.942   0.489\n",
       "8      8  0.468  0.953   0.948   0.464\n",
       "9      9  0.445  0.951   0.952   0.441\n",
       "10    10  0.427  0.960   0.956   0.422\n",
       "11    11  0.409  0.958   0.959   0.405\n",
       "12    12  0.394  0.963   0.962   0.389"
      ]
     },
     "execution_count": 49,
     "metadata": {},
     "output_type": "execute_result"
    }
   ],
   "source": [
    "# create dataframe with overall retention S(t) and instantaneous retention R(t)\n",
    "pred_sBG = pd.DataFrame({'Time': x,\n",
    "                         'S_obs': s,\n",
    "                         'R_obs': r,\n",
    "                         'R_pred': sBG_function(x, popt_sBG[0], popt_sBG[1]).round(3)})\n",
    "pred_sBG['R_pred'].iloc[0] = np.nan\n",
    "pred_sBG['S_pred'] = pred_sBG['R_pred'].cumprod().round(3)\n",
    "pred_sBG['S_pred'].iloc[0] = 1\n",
    "pred_sBG"
   ]
  },
  {
   "cell_type": "markdown",
   "metadata": {},
   "source": [
    "### Plot retention with sBG model"
   ]
  },
  {
   "cell_type": "code",
   "execution_count": 50,
   "metadata": {},
   "outputs": [],
   "source": [
    "prop_cycle = plt.rcParams['axes.prop_cycle']\n",
    "colors = prop_cycle.by_key()['color']"
   ]
  },
  {
   "cell_type": "code",
   "execution_count": 51,
   "metadata": {},
   "outputs": [
    {
     "data": {
      "image/png": "[encoded data removed]",
      "text/plain": [
       "<Figure size 468x468 with 2 Axes>"
      ]
     },
     "metadata": {
      "needs_background": "light"
     },
     "output_type": "display_data"
    }
   ],
   "source": [
    "# plot retention forecasting\n",
    "fig, axes = plt.subplots(2, 1, figsize = (6.5, 6.5))\n",
    "\n",
    "axes[0].scatter(pred_sBG['Time'][:limit], pred_sBG['S_obs'][:limit], s=50, c=colors[0], edgecolors='k', label='Observed', zorder=2)\n",
    "axes[0].scatter(pred_sBG['Time'][limit:], pred_sBG['S_obs'][limit:], s=50, c=colors[0], edgecolors='k', alpha=0.5, label='Future', zorder=2)\n",
    "axes[0].plot(pred_sBG['Time'], pred_sBG['S_pred'], '--', linewidth=2, c='gray', zorder=1, label='sBG')\n",
    "axes[0].set_xlim(-0.5, 12.5)\n",
    "axes[0].set_ylim(-0.01,1.1)\n",
    "axes[0].set_yticks([0, 0.33, 0.67, 1.0])\n",
    "axes[0].tick_params(axis='both', which='major', labelsize=14)\n",
    "axes[0].set_ylabel('$S$($t$)', fontsize = 18, fontname = 'Helvetica', fontweight = 'bold', rotation=0)\n",
    "axes[0].get_yaxis().set_label_coords(-0.125,0.4)\n",
    "\n",
    "axes[1].scatter(pred_sBG['Time'][:limit], pred_sBG['R_obs'][:limit], s=50, c=colors[1], edgecolors='k', label='Observed', zorder=2)\n",
    "axes[1].scatter(pred_sBG['Time'][limit:], pred_sBG['R_obs'][limit:], s=50, c=colors[1], edgecolors='k', alpha=0.5, label='Future', zorder=2)\n",
    "axes[1].plot(pred_sBG['Time'], pred_sBG['R_pred'], '--', linewidth=2, c='gray', zorder=1, label='sBG')\n",
    "axes[1].legend(loc=2, prop={'size': 14, 'family':'Helvetica'})\n",
    "axes[1].set_xlim(-0.5, 12.5)\n",
    "axes[1].set_ylim(0.79,1.025)\n",
    "axes[1].set_yticks([0.8, 0.9, 1.0])\n",
    "axes[1].tick_params(axis='both', which='major', labelsize=14)\n",
    "axes[1].set_ylabel('$R$($t$)', fontsize = 18, fontname = 'Helvetica', fontweight = 'bold', rotation=0)\n",
    "axes[1].get_yaxis().set_label_coords(-0.125,0.4)\n",
    "\n",
    "handles, labels = axes[0].get_legend_handles_labels()\n",
    "handles = [handles[1], handles[2], handles[0]]\n",
    "labels = [labels[1], labels[2], labels[0]]\n",
    "axes[0].legend(handles, labels, loc=3, prop={'size': 14, 'family':'Helvetica'})\n",
    "\n",
    "handles, labels = axes[1].get_legend_handles_labels()\n",
    "handles = [handles[1], handles[2], handles[0]]\n",
    "labels = [labels[1], labels[2], labels[0]]\n",
    "axes[1].legend(handles, labels, loc=2, prop={'size': 14, 'family':'Helvetica'})\n",
    "\n",
    "plt.xlabel('Time since signup (years)', fontsize = 18, fontname = 'Helvetica', fontweight = 'bold')\n",
    "\n",
    "# turn grid on\n",
    "axes[0].grid(color=(.9, .9, .9)), axes[0].set_axisbelow(True)\n",
    "axes[1].grid(color=(.9, .9, .9)), axes[1].set_axisbelow(True)\n",
    "\n",
    "plt.tight_layout()\n",
    "plt.show()"
   ]
  },
  {
   "cell_type": "markdown",
   "metadata": {},
   "source": [
    "### Model retention in long term"
   ]
  },
  {
   "cell_type": "code",
   "execution_count": 64,
   "metadata": {},
   "outputs": [],
   "source": [
    "# create long-term retention model based on fit\n",
    "years = 100\n",
    "x = np.arange(0, years+1, 1)\n",
    "d = 0.10\n",
    "\n",
    "# shifted beta geometric\n",
    "pred_sBG_longterm = pd.DataFrame({'Time': x,\n",
    "                                  'R_pred': sBG_function(x, popt_sBG[0], popt_sBG[1]).round(3)})\n",
    "pred_sBG_longterm['R_pred'].iloc[0] = np.nan\n",
    "\n",
    "# create overall retention (survival) column\n",
    "pred_sBG_longterm['S_pred'] = pred_sBG_longterm['R_pred'].cumprod().round(3)\n",
    "pred_sBG_longterm['S_pred'].iloc[0] = 1\n",
    "\n",
    "# calculate time-discounted customer lifetime column\n",
    "pred_sBG_longterm['S_pred_disc'] = (pred_sBG_longterm['S_pred']/((1 + d)**pred_sBG_longterm['Time'])).round(3)\n",
    "\n",
    "# calculate customer lifetime as area under survival curve\n",
    "pred_sBG_longterm['S_pred_disc_cumsum'] = (pred_sBG_longterm['S_pred_disc'].cumsum() - 1).round(3)"
   ]
  },
  {
   "cell_type": "code",
   "execution_count": 65,
   "metadata": {},
   "outputs": [
    {
     "data": {
      "text/html": [
       "<div>\n",
       "<style scoped>\n",
       "    .dataframe tbody tr th:only-of-type {\n",
       "        vertical-align: middle;\n",
       "    }\n",
       "\n",
       "    .dataframe tbody tr th {\n",
       "        vertical-align: top;\n",
       "    }\n",
       "\n",
       "    .dataframe thead th {\n",
       "        text-align: right;\n",
       "    }\n",
       "</style>\n",
       "<table border=\"1\" class=\"dataframe\">\n",
       "  <thead>\n",
       "    <tr style=\"text-align: right;\">\n",
       "      <th></th>\n",
       "      <th>Time</th>\n",
       "      <th>R_pred</th>\n",
       "      <th>S_pred</th>\n",
       "      <th>S_pred_disc</th>\n",
       "      <th>S_pred_disc_cumsum</th>\n",
       "    </tr>\n",
       "  </thead>\n",
       "  <tbody>\n",
       "    <tr>\n",
       "      <th>0</th>\n",
       "      <td>0</td>\n",
       "      <td>NaN</td>\n",
       "      <td>1.000</td>\n",
       "      <td>1.000</td>\n",
       "      <td>0.000</td>\n",
       "    </tr>\n",
       "    <tr>\n",
       "      <th>1</th>\n",
       "      <td>1</td>\n",
       "      <td>0.836</td>\n",
       "      <td>0.836</td>\n",
       "      <td>0.760</td>\n",
       "      <td>0.760</td>\n",
       "    </tr>\n",
       "    <tr>\n",
       "      <th>2</th>\n",
       "      <td>2</td>\n",
       "      <td>0.874</td>\n",
       "      <td>0.731</td>\n",
       "      <td>0.604</td>\n",
       "      <td>1.364</td>\n",
       "    </tr>\n",
       "    <tr>\n",
       "      <th>3</th>\n",
       "      <td>3</td>\n",
       "      <td>0.898</td>\n",
       "      <td>0.656</td>\n",
       "      <td>0.493</td>\n",
       "      <td>1.857</td>\n",
       "    </tr>\n",
       "    <tr>\n",
       "      <th>4</th>\n",
       "      <td>4</td>\n",
       "      <td>0.914</td>\n",
       "      <td>0.600</td>\n",
       "      <td>0.410</td>\n",
       "      <td>2.267</td>\n",
       "    </tr>\n",
       "    <tr>\n",
       "      <th>...</th>\n",
       "      <td>...</td>\n",
       "      <td>...</td>\n",
       "      <td>...</td>\n",
       "      <td>...</td>\n",
       "      <td>...</td>\n",
       "    </tr>\n",
       "    <tr>\n",
       "      <th>96</th>\n",
       "      <td>96</td>\n",
       "      <td>0.995</td>\n",
       "      <td>0.139</td>\n",
       "      <td>0.000</td>\n",
       "      <td>4.949</td>\n",
       "    </tr>\n",
       "    <tr>\n",
       "      <th>97</th>\n",
       "      <td>97</td>\n",
       "      <td>0.995</td>\n",
       "      <td>0.138</td>\n",
       "      <td>0.000</td>\n",
       "      <td>4.949</td>\n",
       "    </tr>\n",
       "    <tr>\n",
       "      <th>98</th>\n",
       "      <td>98</td>\n",
       "      <td>0.995</td>\n",
       "      <td>0.137</td>\n",
       "      <td>0.000</td>\n",
       "      <td>4.949</td>\n",
       "    </tr>\n",
       "    <tr>\n",
       "      <th>99</th>\n",
       "      <td>99</td>\n",
       "      <td>0.995</td>\n",
       "      <td>0.137</td>\n",
       "      <td>0.000</td>\n",
       "      <td>4.949</td>\n",
       "    </tr>\n",
       "    <tr>\n",
       "      <th>100</th>\n",
       "      <td>100</td>\n",
       "      <td>0.995</td>\n",
       "      <td>0.136</td>\n",
       "      <td>0.000</td>\n",
       "      <td>4.949</td>\n",
       "    </tr>\n",
       "  </tbody>\n",
       "</table>\n",
       "<p>101 rows × 5 columns</p>\n",
       "</div>"
      ],
      "text/plain": [
       "     Time  R_pred  S_pred  S_pred_disc  S_pred_disc_cumsum\n",
       "0       0     NaN   1.000        1.000               0.000\n",
       "1       1   0.836   0.836        0.760               0.760\n",
       "2       2   0.874   0.731        0.604               1.364\n",
       "3       3   0.898   0.656        0.493               1.857\n",
       "4       4   0.914   0.600        0.410               2.267\n",
       "..    ...     ...     ...          ...                 ...\n",
       "96     96   0.995   0.139        0.000               4.949\n",
       "97     97   0.995   0.138        0.000               4.949\n",
       "98     98   0.995   0.137        0.000               4.949\n",
       "99     99   0.995   0.137        0.000               4.949\n",
       "100   100   0.995   0.136        0.000               4.949\n",
       "\n",
       "[101 rows x 5 columns]"
      ]
     },
     "execution_count": 65,
     "metadata": {},
     "output_type": "execute_result"
    }
   ],
   "source": [
    "# check result -- converges to 4.95\n",
    "pred_sBG_longterm"
   ]
  },
  {
   "cell_type": "markdown",
   "metadata": {},
   "source": [
    "### Plot long-term retention forecast"
   ]
  },
  {
   "cell_type": "code",
   "execution_count": 77,
   "metadata": {},
   "outputs": [
    {
     "data": {
      "image/png": "[encoded data removed]",
      "text/plain": [
       "<Figure size 468x468 with 2 Axes>"
      ]
     },
     "metadata": {
      "needs_background": "light"
     },
     "output_type": "display_data"
    }
   ],
   "source": [
    "# plot retention forecasting\n",
    "fig, axes = plt.subplots(2, 1, figsize = (6.5, 6.5))\n",
    "\n",
    "axes[0].scatter(pred_sBG['Time'], pred_sBG['S_obs'], s=33, c=colors[0], edgecolors='k', label='Observed', zorder=2)\n",
    "axes[0].plot(pred_sBG_longterm['Time'], pred_sBG_longterm['S_pred'], marker='.', markersize=9, markeredgecolor=(0.6, 0.6, 0.6), linewidth=3, c=(0.75, 0.75, 0.75), zorder=1, label='Model (sBG)')\n",
    "axes[0].set_xlim(-0.5, 25.5)\n",
    "axes[0].set_ylim(-0.05,1.05)\n",
    "axes[0].set_yticks([0, 0.33, 0.67, 1.0])\n",
    "axes[0].tick_params(axis='both', which='major', labelsize=14)\n",
    "axes[0].set_ylabel('$S$($t$)', fontsize = 18, fontname = 'Helvetica', fontweight = 'bold', rotation=0)\n",
    "axes[0].get_yaxis().set_label_coords(-0.175,0.425)\n",
    "handles, labels = axes[0].get_legend_handles_labels()\n",
    "axes[0].legend([handles[1], handles[0]], [labels[1], labels[0]], loc=1, prop={'size': 14, 'family':'Helvetica'})\n",
    "\n",
    "axes[1].plot(pred_sBG_longterm['Time'], pred_sBG_longterm['S_pred_disc'], marker='.', markersize=9, markeredgecolor=(0.8, 0.4, 0.2), linewidth=3, c=colors[1], zorder=2) #, label='sBG')\n",
    "axes[1].set_xlim(-0.5, 25.5)\n",
    "axes[1].set_ylim(-0.05, 1.05)\n",
    "axes[1].set_yticks([0, 0.33, 0.67, 1.0])\n",
    "axes[1].tick_params(axis='both', which='major', labelsize=14)\n",
    "axes[1].set_ylabel(r\"$\\dfrac{S(t)}{(1+d)^t}$\", fontsize = 18, fontname = 'Helvetica', fontweight = 'bold', rotation=0)\n",
    "axes[1].get_yaxis().set_label_coords(-0.2,0.4)\n",
    "axes[1].fill_between(pred_sBG_longterm['Time'], pred_sBG_longterm['S_pred_disc'], color=colors[1], alpha=0.25)\n",
    "\n",
    "# text box\n",
    "props = dict(boxstyle='square', facecolor='white', edgecolor='white', alpha=0.5)\n",
    "axes[1].text(12, 0.965, '$\\sum_{t=0}^{\\infty} \\; \\dfrac{S(t)}{(1+d)^t} \\\\approx 4.95 \\; $y', fontsize=16, fontname='Helvetica', verticalalignment='top', bbox=props)\n",
    "\n",
    "plt.xlabel('Time since signup ($t$, years)', fontsize = 18, fontname = 'Helvetica', fontweight = 'bold')\n",
    "\n",
    "# turn grid on\n",
    "axes[0].grid(color=(.9, .9, .9)), axes[0].set_axisbelow(True)\n",
    "axes[1].grid(color=(.9, .9, .9)), axes[1].set_axisbelow(True)\n",
    "\n",
    "plt.tight_layout()\n",
    "plt.gcf().subplots_adjust(left=0.25, top=0.975, right=0.95)\n",
    "plt.show()"
   ]
  }
 ],
 "metadata": {
  "kernelspec": {
   "display_name": "Python 3",
   "language": "python",
   "name": "python3"
  },
  "language_info": {
   "codemirror_mode": {
    "name": "ipython",
    "version": 3
   },
   "file_extension": ".py",
   "mimetype": "text/x-python",
   "name": "python",
   "nbconvert_exporter": "python",
   "pygments_lexer": "ipython3",
   "version": "3.7.3"
  },
  "toc": {
   "base_numbering": 1,
   "nav_menu": {},
   "number_sections": true,
   "sideBar": true,
   "skip_h1_title": true,
   "title_cell": "Table of Contents",
   "title_sidebar": "Contents",
   "toc_cell": false,
   "toc_position": {},
   "toc_section_display": true,
   "toc_window_display": false
  }
 },
 "nbformat": 4,
 "nbformat_minor": 4
}
